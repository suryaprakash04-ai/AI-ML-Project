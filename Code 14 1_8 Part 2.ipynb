{
 "cells": [
  {
   "cell_type": "code",
   "execution_count": 4,
   "id": "4fbeae5f",
   "metadata": {},
   "outputs": [
    {
     "name": "stdout",
     "output_type": "stream",
     "text": [
      "TensorFlow version:2.12.0\n"
     ]
    }
   ],
   "source": [
    "import tensorflow as tf\n",
    "print(\"TensorFlow version:{}\".format(tf.__version__))\n"
   ]
  },
  {
   "cell_type": "code",
   "execution_count": 5,
   "id": "0a8cfdee",
   "metadata": {},
   "outputs": [
    {
     "name": "stdout",
     "output_type": "stream",
     "text": [
      "Dimension is 0\n",
      "tf.Tensor(1, shape=(), dtype=int32)\n"
     ]
    }
   ],
   "source": [
    "d0=tf.constant(1)\n",
    "print(\"Dimension is\",tf.rank(d0).numpy())\n",
    "print(d0)"
   ]
  },
  {
   "cell_type": "code",
   "execution_count": 6,
   "id": "51989caa",
   "metadata": {},
   "outputs": [
    {
     "name": "stdout",
     "output_type": "stream",
     "text": [
      "Dimension is 1\n",
      "tf.Tensor([1. 1.], shape=(2,), dtype=float32)\n"
     ]
    }
   ],
   "source": [
    "d1=tf.ones((2,))\n",
    "print(\"Dimension is\", tf.rank(d1).numpy())\n",
    "print(d1)"
   ]
  },
  {
   "cell_type": "code",
   "execution_count": 7,
   "id": "d0a114ad",
   "metadata": {},
   "outputs": [
    {
     "name": "stdout",
     "output_type": "stream",
     "text": [
      "Dimension is 2\n",
      "tf.Tensor(\n",
      "[[1. 1.]\n",
      " [1. 1.]], shape=(2, 2), dtype=float32)\n"
     ]
    }
   ],
   "source": [
    "d2 = tf.ones((2,2))\n",
    "print(\"Dimension is\", tf.rank(d2).numpy())\n",
    "print(d2)"
   ]
  },
  {
   "cell_type": "code",
   "execution_count": 9,
   "id": "0c52d895",
   "metadata": {},
   "outputs": [
    {
     "name": "stdout",
     "output_type": "stream",
     "text": [
      "Dimension is 3\n",
      "tf.Tensor(\n",
      "[[[1. 1.]\n",
      "  [1. 1.]]\n",
      "\n",
      " [[1. 1.]\n",
      "  [1. 1.]]], shape=(2, 2, 2), dtype=float32)\n"
     ]
    }
   ],
   "source": [
    "d3 =tf.ones((2,2,2))\n",
    "print(\"Dimension is\", tf.rank(d3).numpy())\n",
    "print(d3)"
   ]
  },
  {
   "cell_type": "code",
   "execution_count": null,
   "id": "35367786",
   "metadata": {},
   "outputs": [
    {
     "data": {
      "text/plain": [
       "<tf.Variable 'Variable:0' shape=() dtype=int32, numpy=23>"
      ]
     },
     "execution_count": 10,
     "metadata": {},
     "output_type": "execute_result"
    }
   ],
   "source": [
    "x1 = tf.Variable(23)\n",
    "x2 = tf.Variable([ [ [0.,1.,2.], [3.,4.,5.]], [[6.,7.,8.], [9.,10.,11.]]])\n",
    "x0 =123\n",
    "x1"
   ]
  },
  {
   "cell_type": "code",
   "execution_count": null,
   "id": "1310fb64",
   "metadata": {},
   "outputs": [
    {
     "data": {
      "text/plain": [
       "<tf.Variable 'Variable:0' shape=() dtype=int32, numpy=100>"
      ]
     },
     "execution_count": 11,
     "metadata": {},
     "output_type": "execute_result"
    }
   ],
   "source": [
    "x1.assign(100)\n",
    "x1"
   ]
  },
  {
   "cell_type": "code",
   "execution_count": null,
   "id": "321133f6",
   "metadata": {},
   "outputs": [
    {
     "name": "stdout",
     "output_type": "stream",
     "text": [
      "tf.Tensor(100, shape=(), dtype=int32)\n"
     ]
    }
   ],
   "source": [
    "x1 = tf.constant(100)\n",
    "print(x1)"
   ]
  },
  {
   "cell_type": "code",
   "execution_count": 15,
   "id": "ceac733f",
   "metadata": {},
   "outputs": [
    {
     "data": {
      "text/plain": [
       "<tf.Tensor: shape=(1, 12), dtype=float32, numpy=\n",
       "array([[ 0.,  1.,  2.,  3.,  4.,  5.,  6.,  7.,  8.,  9., 10., 11.]],\n",
       "      dtype=float32)>"
      ]
     },
     "execution_count": 15,
     "metadata": {},
     "output_type": "execute_result"
    }
   ],
   "source": [
    "x112 =tf.reshape(x2,[1,12]) \n",
    "x112"
   ]
  },
  {
   "cell_type": "code",
   "execution_count": 16,
   "id": "8b5b5d94",
   "metadata": {},
   "outputs": [
    {
     "data": {
      "text/plain": [
       "202.0"
      ]
     },
     "execution_count": 16,
     "metadata": {},
     "output_type": "execute_result"
    }
   ],
   "source": [
    "xf64 =tf.Variable(202,dtype=tf.float64)\n",
    "xf64.dtype\n",
    "xf64.numpy()"
   ]
  },
  {
   "cell_type": "code",
   "execution_count": 17,
   "id": "a665c14b",
   "metadata": {},
   "outputs": [
    {
     "data": {
      "text/plain": [
       "array([[[  1,   1,   1],\n",
       "        [  2,   2,   2]],\n",
       "\n",
       "       [[  4,   3,   5],\n",
       "        [  4,   4, 414]]])"
      ]
     },
     "execution_count": 17,
     "metadata": {},
     "output_type": "execute_result"
    }
   ],
   "source": [
    "tf.rank(xf64)\n",
    "tf.rank(x2)\n",
    "t = tf.constant([[[1,1,1],[2,2,2]],[[4,3,5],[4,4,414]]])\n",
    "tf.rank(t).numpy()\n",
    "t.numpy()"
   ]
  },
  {
   "cell_type": "code",
   "execution_count": 18,
   "id": "e4760a57",
   "metadata": {},
   "outputs": [
    {
     "data": {
      "text/plain": [
       "<tf.Tensor: shape=(), dtype=int32, numpy=414>"
      ]
     },
     "execution_count": 18,
     "metadata": {},
     "output_type": "execute_result"
    }
   ],
   "source": [
    "tensor3 =t[1,1,2] \n",
    "tensor3"
   ]
  },
  {
   "cell_type": "code",
   "execution_count": 20,
   "id": "72bf3859",
   "metadata": {},
   "outputs": [
    {
     "name": "stdout",
     "output_type": "stream",
     "text": [
      "Before 4: [0 1 1 2]\n",
      "After 4: [ 3  4  8 13 21 34]\n",
      "From 2, before 7: [1 2 3 4 8]\n",
      "Every other item: [ 0  1  3  8 21]\n",
      "Reversed: [34 21 13  8  4  3  2  1  1  0]\n"
     ]
    }
   ],
   "source": [
    "x= tf.constant([0,1,1,2,3,4,8,13,21,34])\n",
    "print(\"Before 4:\",x[:4].numpy())\n",
    "print(\"After 4:\",x[4:].numpy())\n",
    "print(\"From 2, before 7:\",x[2:7].numpy())\n",
    "print(\"Every other item:\",x[::2].numpy())\n",
    "print(\"Reversed:\",x[::-1].numpy())"
   ]
  },
  {
   "cell_type": "code",
   "execution_count": 21,
   "id": "dd5ffe73",
   "metadata": {},
   "outputs": [
    {
     "name": "stdout",
     "output_type": "stream",
     "text": [
      "tf.Tensor(\n",
      "[[1 2]\n",
      " [3 4]], shape=(2, 2), dtype=int32)\n",
      "tf.Tensor(\n",
      "[[1. 2.]\n",
      " [3. 4.]], shape=(2, 2), dtype=float32)\n"
     ]
    }
   ],
   "source": [
    "a =tf.constant([[1,2],[3,4]])\n",
    "i= tf.cast(a,dtype=tf.float32)\n",
    "print(a)\n",
    "print(i)"
   ]
  },
  {
   "cell_type": "code",
   "execution_count": 23,
   "id": "21bb884e",
   "metadata": {},
   "outputs": [
    {
     "name": "stdout",
     "output_type": "stream",
     "text": [
      "tf.Tensor(\n",
      "[[1 2]\n",
      " [3 4]], shape=(2, 2), dtype=int32)\n",
      "tf.Tensor(\n",
      "[[5 6]\n",
      " [7 8]], shape=(2, 2), dtype=int32)\n",
      "\n",
      " output of c tf.Tensor(\n",
      "[[ 6  8]\n",
      " [10 12]], shape=(2, 2), dtype=int32)\n"
     ]
    }
   ],
   "source": [
    "a= tf.constant([[1,2],[3,4]])\n",
    "b= tf.constant([[5,6],[7,8]])\n",
    "c = a +b\n",
    "a.numpy()\n",
    "b.numpy()\n",
    "print(a)\n",
    "print(b)\n",
    "print(\"\\n output of c\",c)"
   ]
  },
  {
   "cell_type": "code",
   "execution_count": 24,
   "id": "3de9552d",
   "metadata": {},
   "outputs": [
    {
     "name": "stdout",
     "output_type": "stream",
     "text": [
      "tf.Tensor(\n",
      "[[ 36  64]\n",
      " [100 144]], shape=(2, 2), dtype=int32)\n"
     ]
    }
   ],
   "source": [
    "d = tf.square(c)\n",
    "print(d)"
   ]
  },
  {
   "cell_type": "code",
   "execution_count": 26,
   "id": "bddf4f09",
   "metadata": {},
   "outputs": [
    {
     "name": "stdout",
     "output_type": "stream",
     "text": [
      "6\n"
     ]
    },
    {
     "data": {
      "text/plain": [
       "<tf.Tensor: shape=(2, 2), dtype=int32, numpy=\n",
       "array([[ 5, 12],\n",
       "       [21, 32]])>"
      ]
     },
     "execution_count": 26,
     "metadata": {},
     "output_type": "execute_result"
    }
   ],
   "source": [
    "tf.add(a,b)\n",
    "tf.subtract(b,a)\n",
    "e = a*b\n",
    "print(6)\n",
    "tf.multiply(a,b) "
   ]
  },
  {
   "cell_type": "code",
   "execution_count": null,
   "id": "72b1c163",
   "metadata": {},
   "outputs": [],
   "source": []
  }
 ],
 "metadata": {
  "kernelspec": {
   "display_name": "Python 3",
   "language": "python",
   "name": "python3"
  },
  "language_info": {
   "codemirror_mode": {
    "name": "ipython",
    "version": 3
   },
   "file_extension": ".py",
   "mimetype": "text/x-python",
   "name": "python",
   "nbconvert_exporter": "python",
   "pygments_lexer": "ipython3",
   "version": "3.10.11"
  }
 },
 "nbformat": 4,
 "nbformat_minor": 5
}
