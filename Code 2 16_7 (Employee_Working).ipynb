{
 "cells": [
  {
   "cell_type": "code",
   "execution_count": 1,
   "id": "9946900a-d26a-48f8-b5f9-ce6498f34abe",
   "metadata": {},
   "outputs": [],
   "source": [
    "import numpy as np\n",
    "import pandas as pd\n",
    "import matplotlib.pyplot as plt\n",
    "import seaborn as sns"
   ]
  },
  {
   "cell_type": "code",
   "execution_count": 2,
   "id": "084c0fee-d151-46b6-ad85-a6237dccea05",
   "metadata": {},
   "outputs": [],
   "source": [
    "np.random.seed(42)"
   ]
  },
  {
   "cell_type": "code",
   "execution_count": 3,
   "id": "31d8f890-2f6e-4fcd-8f49-4fdcaa68db20",
   "metadata": {},
   "outputs": [],
   "source": [
    "employee_ids=[f\"Emp_{i:03d}\" for i in range(1,31)]"
   ]
  },
  {
   "cell_type": "code",
   "execution_count": 4,
   "id": "96854977-3cef-467b-ac97-4a4624dd7254",
   "metadata": {},
   "outputs": [],
   "source": [
    "dates=pd.date_range(start='2025-07-01', periods=30, freq='D')"
   ]
  },
  {
   "cell_type": "code",
   "execution_count": 5,
   "id": "b6d3c8d5-9091-4d6d-9fff-9d307deb100d",
   "metadata": {},
   "outputs": [],
   "source": [
    "date={\n",
    "    \"Date\":np.tile(dates,len(employee_ids)),\n",
    "    \"Employee_IDS\":np.repeat(employee_ids,len(dates)),\n",
    "    \"Working_hours\":np.random.uniform(4, 10, size=len(dates)*len(employee_ids))\n",
    "}                           "
   ]
  },
  {
   "cell_type": "code",
   "execution_count": 6,
   "id": "d86e069d-8cbd-473f-8e10-bf0cd6d88be5",
   "metadata": {},
   "outputs": [],
   "source": [
    "df=pd.DataFrame(date)"
   ]
  },
  {
   "cell_type": "code",
   "execution_count": 7,
   "id": "25307cad-932f-47a5-9b69-b6c212060f7e",
   "metadata": {},
   "outputs": [
    {
     "data": {
      "text/html": [
       "<div>\n",
       "<style scoped>\n",
       "    .dataframe tbody tr th:only-of-type {\n",
       "        vertical-align: middle;\n",
       "    }\n",
       "\n",
       "    .dataframe tbody tr th {\n",
       "        vertical-align: top;\n",
       "    }\n",
       "\n",
       "    .dataframe thead th {\n",
       "        text-align: right;\n",
       "    }\n",
       "</style>\n",
       "<table border=\"1\" class=\"dataframe\">\n",
       "  <thead>\n",
       "    <tr style=\"text-align: right;\">\n",
       "      <th></th>\n",
       "      <th>Date</th>\n",
       "      <th>Employee_IDS</th>\n",
       "      <th>Working_hours</th>\n",
       "    </tr>\n",
       "  </thead>\n",
       "  <tbody>\n",
       "    <tr>\n",
       "      <th>0</th>\n",
       "      <td>2025-07-01</td>\n",
       "      <td>Emp_001</td>\n",
       "      <td>6.247241</td>\n",
       "    </tr>\n",
       "    <tr>\n",
       "      <th>1</th>\n",
       "      <td>2025-07-02</td>\n",
       "      <td>Emp_001</td>\n",
       "      <td>9.704286</td>\n",
       "    </tr>\n",
       "    <tr>\n",
       "      <th>2</th>\n",
       "      <td>2025-07-03</td>\n",
       "      <td>Emp_001</td>\n",
       "      <td>8.391964</td>\n",
       "    </tr>\n",
       "    <tr>\n",
       "      <th>3</th>\n",
       "      <td>2025-07-04</td>\n",
       "      <td>Emp_001</td>\n",
       "      <td>7.591951</td>\n",
       "    </tr>\n",
       "    <tr>\n",
       "      <th>4</th>\n",
       "      <td>2025-07-05</td>\n",
       "      <td>Emp_001</td>\n",
       "      <td>4.936112</td>\n",
       "    </tr>\n",
       "    <tr>\n",
       "      <th>...</th>\n",
       "      <td>...</td>\n",
       "      <td>...</td>\n",
       "      <td>...</td>\n",
       "    </tr>\n",
       "    <tr>\n",
       "      <th>895</th>\n",
       "      <td>2025-07-26</td>\n",
       "      <td>Emp_030</td>\n",
       "      <td>5.229906</td>\n",
       "    </tr>\n",
       "    <tr>\n",
       "      <th>896</th>\n",
       "      <td>2025-07-27</td>\n",
       "      <td>Emp_030</td>\n",
       "      <td>5.758886</td>\n",
       "    </tr>\n",
       "    <tr>\n",
       "      <th>897</th>\n",
       "      <td>2025-07-28</td>\n",
       "      <td>Emp_030</td>\n",
       "      <td>9.378015</td>\n",
       "    </tr>\n",
       "    <tr>\n",
       "      <th>898</th>\n",
       "      <td>2025-07-29</td>\n",
       "      <td>Emp_030</td>\n",
       "      <td>4.078012</td>\n",
       "    </tr>\n",
       "    <tr>\n",
       "      <th>899</th>\n",
       "      <td>2025-07-30</td>\n",
       "      <td>Emp_030</td>\n",
       "      <td>4.513051</td>\n",
       "    </tr>\n",
       "  </tbody>\n",
       "</table>\n",
       "<p>900 rows × 3 columns</p>\n",
       "</div>"
      ],
      "text/plain": [
       "          Date Employee_IDS  Working_hours\n",
       "0   2025-07-01      Emp_001       6.247241\n",
       "1   2025-07-02      Emp_001       9.704286\n",
       "2   2025-07-03      Emp_001       8.391964\n",
       "3   2025-07-04      Emp_001       7.591951\n",
       "4   2025-07-05      Emp_001       4.936112\n",
       "..         ...          ...            ...\n",
       "895 2025-07-26      Emp_030       5.229906\n",
       "896 2025-07-27      Emp_030       5.758886\n",
       "897 2025-07-28      Emp_030       9.378015\n",
       "898 2025-07-29      Emp_030       4.078012\n",
       "899 2025-07-30      Emp_030       4.513051\n",
       "\n",
       "[900 rows x 3 columns]"
      ]
     },
     "execution_count": 7,
     "metadata": {},
     "output_type": "execute_result"
    }
   ],
   "source": [
    "df"
   ]
  },
  {
   "cell_type": "code",
   "execution_count": 8,
   "id": "4b52800a-17ca-4152-9b46-cfb1f982f60b",
   "metadata": {},
   "outputs": [
    {
     "data": {
      "text/html": [
       "<div>\n",
       "<style scoped>\n",
       "    .dataframe tbody tr th:only-of-type {\n",
       "        vertical-align: middle;\n",
       "    }\n",
       "\n",
       "    .dataframe tbody tr th {\n",
       "        vertical-align: top;\n",
       "    }\n",
       "\n",
       "    .dataframe thead th {\n",
       "        text-align: right;\n",
       "    }\n",
       "</style>\n",
       "<table border=\"1\" class=\"dataframe\">\n",
       "  <thead>\n",
       "    <tr style=\"text-align: right;\">\n",
       "      <th></th>\n",
       "      <th>Date</th>\n",
       "      <th>Employee_IDS</th>\n",
       "      <th>Working_hours</th>\n",
       "    </tr>\n",
       "  </thead>\n",
       "  <tbody>\n",
       "    <tr>\n",
       "      <th>0</th>\n",
       "      <td>2025-07-01</td>\n",
       "      <td>Emp_001</td>\n",
       "      <td>6.2</td>\n",
       "    </tr>\n",
       "    <tr>\n",
       "      <th>1</th>\n",
       "      <td>2025-07-02</td>\n",
       "      <td>Emp_001</td>\n",
       "      <td>9.7</td>\n",
       "    </tr>\n",
       "    <tr>\n",
       "      <th>2</th>\n",
       "      <td>2025-07-03</td>\n",
       "      <td>Emp_001</td>\n",
       "      <td>8.4</td>\n",
       "    </tr>\n",
       "    <tr>\n",
       "      <th>3</th>\n",
       "      <td>2025-07-04</td>\n",
       "      <td>Emp_001</td>\n",
       "      <td>7.6</td>\n",
       "    </tr>\n",
       "    <tr>\n",
       "      <th>4</th>\n",
       "      <td>2025-07-05</td>\n",
       "      <td>Emp_001</td>\n",
       "      <td>4.9</td>\n",
       "    </tr>\n",
       "    <tr>\n",
       "      <th>...</th>\n",
       "      <td>...</td>\n",
       "      <td>...</td>\n",
       "      <td>...</td>\n",
       "    </tr>\n",
       "    <tr>\n",
       "      <th>895</th>\n",
       "      <td>2025-07-26</td>\n",
       "      <td>Emp_030</td>\n",
       "      <td>5.2</td>\n",
       "    </tr>\n",
       "    <tr>\n",
       "      <th>896</th>\n",
       "      <td>2025-07-27</td>\n",
       "      <td>Emp_030</td>\n",
       "      <td>5.8</td>\n",
       "    </tr>\n",
       "    <tr>\n",
       "      <th>897</th>\n",
       "      <td>2025-07-28</td>\n",
       "      <td>Emp_030</td>\n",
       "      <td>9.4</td>\n",
       "    </tr>\n",
       "    <tr>\n",
       "      <th>898</th>\n",
       "      <td>2025-07-29</td>\n",
       "      <td>Emp_030</td>\n",
       "      <td>4.1</td>\n",
       "    </tr>\n",
       "    <tr>\n",
       "      <th>899</th>\n",
       "      <td>2025-07-30</td>\n",
       "      <td>Emp_030</td>\n",
       "      <td>4.5</td>\n",
       "    </tr>\n",
       "  </tbody>\n",
       "</table>\n",
       "<p>900 rows × 3 columns</p>\n",
       "</div>"
      ],
      "text/plain": [
       "          Date Employee_IDS  Working_hours\n",
       "0   2025-07-01      Emp_001            6.2\n",
       "1   2025-07-02      Emp_001            9.7\n",
       "2   2025-07-03      Emp_001            8.4\n",
       "3   2025-07-04      Emp_001            7.6\n",
       "4   2025-07-05      Emp_001            4.9\n",
       "..         ...          ...            ...\n",
       "895 2025-07-26      Emp_030            5.2\n",
       "896 2025-07-27      Emp_030            5.8\n",
       "897 2025-07-28      Emp_030            9.4\n",
       "898 2025-07-29      Emp_030            4.1\n",
       "899 2025-07-30      Emp_030            4.5\n",
       "\n",
       "[900 rows x 3 columns]"
      ]
     },
     "execution_count": 8,
     "metadata": {},
     "output_type": "execute_result"
    }
   ],
   "source": [
    "df[\"Working_hours\"]=df[\"Working_hours\"].round(1)\n",
    "df"
   ]
  },
  {
   "cell_type": "code",
   "execution_count": 9,
   "id": "ea3e5635-a453-4364-baec-4b6051ff9346",
   "metadata": {},
   "outputs": [],
   "source": [
    "df.to_csv(\"Employee_Working_hours.csv\", index=False)"
   ]
  },
  {
   "cell_type": "code",
   "execution_count": 10,
   "id": "18a38082-565c-484d-a94a-52da58349dcf",
   "metadata": {},
   "outputs": [],
   "source": [
    "df_csv=pd.read_csv(\"Employee_Working_hours.csv\")"
   ]
  },
  {
   "cell_type": "code",
   "execution_count": 11,
   "id": "6d8ff2df-c9a0-4478-86b5-a11b814e22a2",
   "metadata": {},
   "outputs": [
    {
     "data": {
      "text/html": [
       "<div>\n",
       "<style scoped>\n",
       "    .dataframe tbody tr th:only-of-type {\n",
       "        vertical-align: middle;\n",
       "    }\n",
       "\n",
       "    .dataframe tbody tr th {\n",
       "        vertical-align: top;\n",
       "    }\n",
       "\n",
       "    .dataframe thead th {\n",
       "        text-align: right;\n",
       "    }\n",
       "</style>\n",
       "<table border=\"1\" class=\"dataframe\">\n",
       "  <thead>\n",
       "    <tr style=\"text-align: right;\">\n",
       "      <th></th>\n",
       "      <th>Date</th>\n",
       "      <th>Employee_IDS</th>\n",
       "      <th>Working_hours</th>\n",
       "    </tr>\n",
       "  </thead>\n",
       "  <tbody>\n",
       "    <tr>\n",
       "      <th>0</th>\n",
       "      <td>2025-07-01</td>\n",
       "      <td>Emp_001</td>\n",
       "      <td>6.2</td>\n",
       "    </tr>\n",
       "    <tr>\n",
       "      <th>1</th>\n",
       "      <td>2025-07-02</td>\n",
       "      <td>Emp_001</td>\n",
       "      <td>9.7</td>\n",
       "    </tr>\n",
       "    <tr>\n",
       "      <th>2</th>\n",
       "      <td>2025-07-03</td>\n",
       "      <td>Emp_001</td>\n",
       "      <td>8.4</td>\n",
       "    </tr>\n",
       "    <tr>\n",
       "      <th>3</th>\n",
       "      <td>2025-07-04</td>\n",
       "      <td>Emp_001</td>\n",
       "      <td>7.6</td>\n",
       "    </tr>\n",
       "    <tr>\n",
       "      <th>4</th>\n",
       "      <td>2025-07-05</td>\n",
       "      <td>Emp_001</td>\n",
       "      <td>4.9</td>\n",
       "    </tr>\n",
       "    <tr>\n",
       "      <th>...</th>\n",
       "      <td>...</td>\n",
       "      <td>...</td>\n",
       "      <td>...</td>\n",
       "    </tr>\n",
       "    <tr>\n",
       "      <th>895</th>\n",
       "      <td>2025-07-26</td>\n",
       "      <td>Emp_030</td>\n",
       "      <td>5.2</td>\n",
       "    </tr>\n",
       "    <tr>\n",
       "      <th>896</th>\n",
       "      <td>2025-07-27</td>\n",
       "      <td>Emp_030</td>\n",
       "      <td>5.8</td>\n",
       "    </tr>\n",
       "    <tr>\n",
       "      <th>897</th>\n",
       "      <td>2025-07-28</td>\n",
       "      <td>Emp_030</td>\n",
       "      <td>9.4</td>\n",
       "    </tr>\n",
       "    <tr>\n",
       "      <th>898</th>\n",
       "      <td>2025-07-29</td>\n",
       "      <td>Emp_030</td>\n",
       "      <td>4.1</td>\n",
       "    </tr>\n",
       "    <tr>\n",
       "      <th>899</th>\n",
       "      <td>2025-07-30</td>\n",
       "      <td>Emp_030</td>\n",
       "      <td>4.5</td>\n",
       "    </tr>\n",
       "  </tbody>\n",
       "</table>\n",
       "<p>900 rows × 3 columns</p>\n",
       "</div>"
      ],
      "text/plain": [
       "           Date Employee_IDS  Working_hours\n",
       "0    2025-07-01      Emp_001            6.2\n",
       "1    2025-07-02      Emp_001            9.7\n",
       "2    2025-07-03      Emp_001            8.4\n",
       "3    2025-07-04      Emp_001            7.6\n",
       "4    2025-07-05      Emp_001            4.9\n",
       "..          ...          ...            ...\n",
       "895  2025-07-26      Emp_030            5.2\n",
       "896  2025-07-27      Emp_030            5.8\n",
       "897  2025-07-28      Emp_030            9.4\n",
       "898  2025-07-29      Emp_030            4.1\n",
       "899  2025-07-30      Emp_030            4.5\n",
       "\n",
       "[900 rows x 3 columns]"
      ]
     },
     "execution_count": 11,
     "metadata": {},
     "output_type": "execute_result"
    }
   ],
   "source": [
    "df_csv"
   ]
  },
  {
   "cell_type": "code",
   "execution_count": 12,
   "id": "74efdbad-3a20-4cee-ae7b-6e78aee66a3d",
   "metadata": {},
   "outputs": [
    {
     "name": "stdout",
     "output_type": "stream",
     "text": [
      "         Date Employee_IDS  Working_hours\n",
      "0  2025-07-01      Emp_001            6.2\n",
      "1  2025-07-02      Emp_001            9.7\n",
      "2  2025-07-03      Emp_001            8.4\n",
      "3  2025-07-04      Emp_001            7.6\n",
      "4  2025-07-05      Emp_001            4.9\n"
     ]
    }
   ],
   "source": [
    "print(df_csv.head())"
   ]
  },
  {
   "cell_type": "code",
   "execution_count": 13,
   "id": "3c7b5a94-b06f-42a4-8409-7a1a5557960b",
   "metadata": {},
   "outputs": [
    {
     "name": "stdout",
     "output_type": "stream",
     "text": [
      "       Working_hours\n",
      "count     900.000000\n",
      "mean        6.953667\n",
      "std         1.762739\n",
      "min         4.000000\n",
      "25%         5.400000\n",
      "50%         7.000000\n",
      "75%         8.500000\n",
      "max        10.000000\n"
     ]
    }
   ],
   "source": [
    "print(df_csv.describe())"
   ]
  },
  {
   "cell_type": "code",
   "execution_count": 14,
   "id": "4b9e9c4d-279f-4099-bffc-bafc174ab27d",
   "metadata": {},
   "outputs": [
    {
     "name": "stdout",
     "output_type": "stream",
     "text": [
      "['Emp_001' 'Emp_002' 'Emp_003' 'Emp_004' 'Emp_005' 'Emp_006' 'Emp_007'\n",
      " 'Emp_008' 'Emp_009' 'Emp_010' 'Emp_011' 'Emp_012' 'Emp_013' 'Emp_014'\n",
      " 'Emp_015' 'Emp_016' 'Emp_017' 'Emp_018' 'Emp_019' 'Emp_020' 'Emp_021'\n",
      " 'Emp_022' 'Emp_023' 'Emp_024' 'Emp_025' 'Emp_026' 'Emp_027' 'Emp_028'\n",
      " 'Emp_029' 'Emp_030']\n"
     ]
    }
   ],
   "source": [
    "print(df_csv[\"Employee_IDS\"].unique())"
   ]
  },
  {
   "cell_type": "code",
   "execution_count": 20,
   "id": "709b6a7f-89fb-461d-960d-a02993c8dd32",
   "metadata": {},
   "outputs": [],
   "source": [
    "total_hours=df_csv.groupby(\"Employee_IDS\")[\"Working_hours\"].sum().sort_values(ascending=False)"
   ]
  },
  {
   "cell_type": "code",
   "execution_count": 22,
   "id": "4009448f",
   "metadata": {},
   "outputs": [],
   "source": [
    "avg_daily=df_csv.groupby(\"Employee_IDS\")[\"Working_hours\"].mean()"
   ]
  },
  {
   "cell_type": "code",
   "execution_count": 23,
   "id": "213b4011",
   "metadata": {},
   "outputs": [
    {
     "name": "stdout",
     "output_type": "stream",
     "text": [
      "         Date Employee_IDS  Working_hours  Low_Hour_Flag  High_Hour_Flag\n",
      "1  2025-07-02      Emp_001            9.7          False            True\n",
      "4  2025-07-05      Emp_001            4.9           True           False\n",
      "5  2025-07-06      Emp_001            4.9           True           False\n",
      "6  2025-07-07      Emp_001            4.3           True           False\n",
      "7  2025-07-08      Emp_001            9.2          False            True\n"
     ]
    }
   ],
   "source": [
    "threshold_low=5\n",
    "threshold_high=9\n",
    "df_csv[\"Low_Hour_Flag\"] = df_csv[\"Working_hours\"] < threshold_low\n",
    "df_csv[\"High_Hour_Flag\"] = df_csv[\"Working_hours\"] > threshold_high\n",
    "\n",
    "print(df_csv[df_csv[\"Low_Hour_Flag\"] | df_csv[\"High_Hour_Flag\"]].head())"
   ]
  },
  {
   "cell_type": "code",
   "execution_count": 24,
   "id": "c50e59cf",
   "metadata": {},
   "outputs": [
    {
     "data": {
      "image/png": "[encoded data removed]",
      "text/plain": [
       "<Figure size 1200x600 with 1 Axes>"
      ]
     },
     "metadata": {},
     "output_type": "display_data"
    }
   ],
   "source": [
    "top10=total_hours.head(10)\n",
    "plt.figure(figsize=(12, 6))\n",
    "sns.barplot(x=top10.index, y=top10.values)\n",
    "plt.xticks(rotation=45)\n",
    "plt.title(\"Top 10 Employees by Total Working Hours\")\n",
    "plt.xlabel(\"Employee IDs\")  \n",
    "plt.ylabel(\"Total Working Hours\")\n",
    "plt.tight_layout()\n",
    "plt.show()"
   ]
  },
  {
   "cell_type": "code",
   "execution_count": 25,
   "id": "ef69119d",
   "metadata": {},
   "outputs": [
    {
     "data": {
      "image/png": "[encoded data removed]",
      "text/plain": [
       "<Figure size 1200x600 with 1 Axes>"
      ]
     },
     "metadata": {},
     "output_type": "display_data"
    }
   ],
   "source": [
    "plt.figure(figsize=(12, 6))\n",
    "sns.barplot(x=avg_daily.index, y=avg_daily.values)\n",
    "plt.xticks(rotation=45) \n",
    "plt.title(\"Average Daily Working Hours per Employee\")   \n",
    "plt.xlabel(\"Employee IDs\")\n",
    "plt.ylabel(\"Average Working Hours\") \n",
    "plt.tight_layout()\n",
    "plt.show()"
   ]
  },
  {
   "cell_type": "code",
   "execution_count": 6,
   "id": "02bcdcbb",
   "metadata": {},
   "outputs": [],
   "source": [
    "import requests\n",
    "from bs4 import BeautifulSoup"
   ]
  },
  {
   "cell_type": "code",
   "execution_count": 7,
   "id": "05e65e4b",
   "metadata": {},
   "outputs": [],
   "source": [
    "url = \"http://books.toscrape.com\""
   ]
  },
  {
   "cell_type": "code",
   "execution_count": 8,
   "id": "4df78b8d",
   "metadata": {},
   "outputs": [],
   "source": [
    "response = requests.get(url)\n",
    "\n",
    "soup = BeautifulSoup(response.text, 'html.parser')\n",
    "\n",
    "books = soup.find_all('article', class_='product_pod')"
   ]
  },
  {
   "cell_type": "code",
   "execution_count": 9,
   "id": "6819af27",
   "metadata": {},
   "outputs": [
    {
     "name": "stdout",
     "output_type": "stream",
     "text": [
      "Title: A Light in the Attic\n",
      "Price: Â£51.77\n",
      "\n",
      "Title: Tipping the Velvet\n",
      "Price: Â£53.74\n",
      "\n",
      "Title: Soumission\n",
      "Price: Â£50.10\n",
      "\n",
      "Title: Sharp Objects\n",
      "Price: Â£47.82\n",
      "\n",
      "Title: Sapiens: A Brief History of Humankind\n",
      "Price: Â£54.23\n",
      "\n",
      "Title: The Requiem Red\n",
      "Price: Â£22.65\n",
      "\n",
      "Title: The Dirty Little Secrets of Getting Your Dream Job\n",
      "Price: Â£33.34\n",
      "\n",
      "Title: The Coming Woman: A Novel Based on the Life of the Infamous Feminist, Victoria Woodhull\n",
      "Price: Â£17.93\n",
      "\n",
      "Title: The Boys in the Boat: Nine Americans and Their Epic Quest for Gold at the 1936 Berlin Olympics\n",
      "Price: Â£22.60\n",
      "\n",
      "Title: The Black Maria\n",
      "Price: Â£52.15\n",
      "\n",
      "Title: Starving Hearts (Triangular Trade Trilogy, #1)\n",
      "Price: Â£13.99\n",
      "\n",
      "Title: Shakespeare's Sonnets\n",
      "Price: Â£20.66\n",
      "\n",
      "Title: Set Me Free\n",
      "Price: Â£17.46\n",
      "\n",
      "Title: Scott Pilgrim's Precious Little Life (Scott Pilgrim #1)\n",
      "Price: Â£52.29\n",
      "\n",
      "Title: Rip it Up and Start Again\n",
      "Price: Â£35.02\n",
      "\n",
      "Title: Our Band Could Be Your Life: Scenes from the American Indie Underground, 1981-1991\n",
      "Price: Â£57.25\n",
      "\n",
      "Title: Olio\n",
      "Price: Â£23.88\n",
      "\n",
      "Title: Mesaerion: The Best Science Fiction Stories 1800-1849\n",
      "Price: Â£37.59\n",
      "\n",
      "Title: Libertarianism for Beginners\n",
      "Price: Â£51.33\n",
      "\n",
      "Title: It's Only the Himalayas\n",
      "Price: Â£45.17\n",
      "\n"
     ]
    }
   ],
   "source": [
    "book_data = []\n",
    "books = soup.find_all('article', class_='product_pod')\n",
    "\n",
    "for book in books:\n",
    "    title = book.h3.a['title']\n",
    "    price = book.find('p', class_='price_color').text\n",
    "    print(f\"Title: {title}\\nPrice: {price}\\n\")\n",
    "    book_data.append({\"Title\": title, \"Price\":price})"
   ]
  },
  {
   "cell_type": "code",
   "execution_count": 10,
   "id": "f9c71848",
   "metadata": {},
   "outputs": [
    {
     "data": {
      "text/html": [
       "<div>\n",
       "<style scoped>\n",
       "    .dataframe tbody tr th:only-of-type {\n",
       "        vertical-align: middle;\n",
       "    }\n",
       "\n",
       "    .dataframe tbody tr th {\n",
       "        vertical-align: top;\n",
       "    }\n",
       "\n",
       "    .dataframe thead th {\n",
       "        text-align: right;\n",
       "    }\n",
       "</style>\n",
       "<table border=\"1\" class=\"dataframe\">\n",
       "  <thead>\n",
       "    <tr style=\"text-align: right;\">\n",
       "      <th></th>\n",
       "      <th>Title</th>\n",
       "      <th>Price</th>\n",
       "    </tr>\n",
       "  </thead>\n",
       "  <tbody>\n",
       "    <tr>\n",
       "      <th>0</th>\n",
       "      <td>A Light in the Attic</td>\n",
       "      <td>Â£51.77</td>\n",
       "    </tr>\n",
       "    <tr>\n",
       "      <th>1</th>\n",
       "      <td>Tipping the Velvet</td>\n",
       "      <td>Â£53.74</td>\n",
       "    </tr>\n",
       "    <tr>\n",
       "      <th>2</th>\n",
       "      <td>Soumission</td>\n",
       "      <td>Â£50.10</td>\n",
       "    </tr>\n",
       "    <tr>\n",
       "      <th>3</th>\n",
       "      <td>Sharp Objects</td>\n",
       "      <td>Â£47.82</td>\n",
       "    </tr>\n",
       "    <tr>\n",
       "      <th>4</th>\n",
       "      <td>Sapiens: A Brief History of Humankind</td>\n",
       "      <td>Â£54.23</td>\n",
       "    </tr>\n",
       "    <tr>\n",
       "      <th>5</th>\n",
       "      <td>The Requiem Red</td>\n",
       "      <td>Â£22.65</td>\n",
       "    </tr>\n",
       "    <tr>\n",
       "      <th>6</th>\n",
       "      <td>The Dirty Little Secrets of Getting Your Dream...</td>\n",
       "      <td>Â£33.34</td>\n",
       "    </tr>\n",
       "    <tr>\n",
       "      <th>7</th>\n",
       "      <td>The Coming Woman: A Novel Based on the Life of...</td>\n",
       "      <td>Â£17.93</td>\n",
       "    </tr>\n",
       "    <tr>\n",
       "      <th>8</th>\n",
       "      <td>The Boys in the Boat: Nine Americans and Their...</td>\n",
       "      <td>Â£22.60</td>\n",
       "    </tr>\n",
       "    <tr>\n",
       "      <th>9</th>\n",
       "      <td>The Black Maria</td>\n",
       "      <td>Â£52.15</td>\n",
       "    </tr>\n",
       "    <tr>\n",
       "      <th>10</th>\n",
       "      <td>Starving Hearts (Triangular Trade Trilogy, #1)</td>\n",
       "      <td>Â£13.99</td>\n",
       "    </tr>\n",
       "    <tr>\n",
       "      <th>11</th>\n",
       "      <td>Shakespeare's Sonnets</td>\n",
       "      <td>Â£20.66</td>\n",
       "    </tr>\n",
       "    <tr>\n",
       "      <th>12</th>\n",
       "      <td>Set Me Free</td>\n",
       "      <td>Â£17.46</td>\n",
       "    </tr>\n",
       "    <tr>\n",
       "      <th>13</th>\n",
       "      <td>Scott Pilgrim's Precious Little Life (Scott Pi...</td>\n",
       "      <td>Â£52.29</td>\n",
       "    </tr>\n",
       "    <tr>\n",
       "      <th>14</th>\n",
       "      <td>Rip it Up and Start Again</td>\n",
       "      <td>Â£35.02</td>\n",
       "    </tr>\n",
       "    <tr>\n",
       "      <th>15</th>\n",
       "      <td>Our Band Could Be Your Life: Scenes from the A...</td>\n",
       "      <td>Â£57.25</td>\n",
       "    </tr>\n",
       "    <tr>\n",
       "      <th>16</th>\n",
       "      <td>Olio</td>\n",
       "      <td>Â£23.88</td>\n",
       "    </tr>\n",
       "    <tr>\n",
       "      <th>17</th>\n",
       "      <td>Mesaerion: The Best Science Fiction Stories 18...</td>\n",
       "      <td>Â£37.59</td>\n",
       "    </tr>\n",
       "    <tr>\n",
       "      <th>18</th>\n",
       "      <td>Libertarianism for Beginners</td>\n",
       "      <td>Â£51.33</td>\n",
       "    </tr>\n",
       "    <tr>\n",
       "      <th>19</th>\n",
       "      <td>It's Only the Himalayas</td>\n",
       "      <td>Â£45.17</td>\n",
       "    </tr>\n",
       "  </tbody>\n",
       "</table>\n",
       "</div>"
      ],
      "text/plain": [
       "                                                Title    Price\n",
       "0                                A Light in the Attic  Â£51.77\n",
       "1                                  Tipping the Velvet  Â£53.74\n",
       "2                                          Soumission  Â£50.10\n",
       "3                                       Sharp Objects  Â£47.82\n",
       "4               Sapiens: A Brief History of Humankind  Â£54.23\n",
       "5                                     The Requiem Red  Â£22.65\n",
       "6   The Dirty Little Secrets of Getting Your Dream...  Â£33.34\n",
       "7   The Coming Woman: A Novel Based on the Life of...  Â£17.93\n",
       "8   The Boys in the Boat: Nine Americans and Their...  Â£22.60\n",
       "9                                     The Black Maria  Â£52.15\n",
       "10     Starving Hearts (Triangular Trade Trilogy, #1)  Â£13.99\n",
       "11                              Shakespeare's Sonnets  Â£20.66\n",
       "12                                        Set Me Free  Â£17.46\n",
       "13  Scott Pilgrim's Precious Little Life (Scott Pi...  Â£52.29\n",
       "14                          Rip it Up and Start Again  Â£35.02\n",
       "15  Our Band Could Be Your Life: Scenes from the A...  Â£57.25\n",
       "16                                               Olio  Â£23.88\n",
       "17  Mesaerion: The Best Science Fiction Stories 18...  Â£37.59\n",
       "18                       Libertarianism for Beginners  Â£51.33\n",
       "19                            It's Only the Himalayas  Â£45.17"
      ]
     },
     "execution_count": 10,
     "metadata": {},
     "output_type": "execute_result"
    }
   ],
   "source": [
    "df= pd.DataFrame(book_data)\n",
    "df"
   ]
  },
  {
   "cell_type": "code",
   "execution_count": 11,
   "id": "4086dab4",
   "metadata": {},
   "outputs": [],
   "source": [
    "import os\n",
    "import shutil\n",
    "\n",
    "def organize_files(folder_path):\n",
    "    for filename in os.listdir(folder_path):\n",
    "        file_path = os.path.join(folder_path, filename)\n",
    "        if os.path.isfile(file_path):\n",
    "            _, ext = os.path.splitext(filename)\n",
    "            ext = ext[1:].upper()  # Remove '.' and capitalize\n",
    "            if not ext:\n",
    "                continue\n",
    "            dest_folder = os.path.join(folder_path, ext)\n",
    "            os.makedirs(dest_folder, exist_ok=True)\n",
    "            shutil.move(file_path, os.path.join(dest_folder, filename))\n",
    "\n",
    "# Change this to your actual downloads path\n",
    "organize_files(\"C:/Users/senth/Downloads\")"
   ]
  },
  {
   "cell_type": "code",
   "execution_count": null,
   "id": "9a0cdac6",
   "metadata": {},
   "outputs": [],
   "source": []
  }
 ],
 "metadata": {
  "kernelspec": {
   "display_name": "Python 3",
   "language": "python",
   "name": "python3"
  },
  "language_info": {
   "codemirror_mode": {
    "name": "ipython",
    "version": 3
   },
   "file_extension": ".py",
   "mimetype": "text/x-python",
   "name": "python",
   "nbconvert_exporter": "python",
   "pygments_lexer": "ipython3",
   "version": "3.13.5"
  }
 },
 "nbformat": 4,
 "nbformat_minor": 5
}
