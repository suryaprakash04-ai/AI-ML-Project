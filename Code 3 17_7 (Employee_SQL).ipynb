{
 "cells": [
  {
   "cell_type": "code",
   "execution_count": 24,
   "id": "ae55ff84",
   "metadata": {},
   "outputs": [],
   "source": [
    "import pandas as pd \n",
    "import numpy as np \n",
    "import mysql.connector \n",
    "import datetime "
   ]
  },
  {
   "cell_type": "code",
   "execution_count": 2,
   "id": "8e402f7a",
   "metadata": {},
   "outputs": [
    {
     "name": "stdout",
     "output_type": "stream",
     "text": [
      "<mysql.connector.connection_cext.CMySQLConnection object at 0x000001E667A7BB60>\n"
     ]
    }
   ],
   "source": [
    "mydb=mysql.connector.connect(\n",
    "    host=\"localhost\",\n",
    "    user='Senthil',\n",
    "    password='43560270',\n",
    "    #database='employees'\n",
    ")\n",
    "print(mydb)"
   ]
  },
  {
   "cell_type": "code",
   "execution_count": 3,
   "id": "ebc142da",
   "metadata": {},
   "outputs": [],
   "source": [
    "cursor=mydb.cursor()"
   ]
  },
  {
   "cell_type": "code",
   "execution_count": null,
   "id": "1e68a3cb",
   "metadata": {},
   "outputs": [],
   "source": [
    "#sql = \"CREATE DATABASE employee\" \n",
    "#cursor.execute(sql) "
   ]
  },
  {
   "cell_type": "code",
   "execution_count": 11,
   "id": "54d48f7c",
   "metadata": {},
   "outputs": [],
   "source": [
    "sql= \"CREATE TABLE salary(empid int,firstname VARCHAR(100),lastname VARCHAR(100),email VARCHAR(50),phone VARCHAR(15),hire_date date,job_id VARCHAR(15),salary int)\"\n"
   ]
  },
  {
   "cell_type": "code",
   "execution_count": 13,
   "id": "b2b86ed9",
   "metadata": {},
   "outputs": [],
   "source": [
    "cursor.execute(\"USE employee\")\n",
    "cursor.execute(sql)"
   ]
  },
  {
   "cell_type": "code",
   "execution_count": 14,
   "id": "c4ea771f",
   "metadata": {},
   "outputs": [],
   "source": [
    "import csv \n",
    "import datetime \n",
    "filename=\"employees1.csv\" "
   ]
  },
  {
   "cell_type": "code",
   "execution_count": 16,
   "id": "ae21e750",
   "metadata": {},
   "outputs": [
    {
     "name": "stdout",
     "output_type": "stream",
     "text": [
      "['198', 'Donald', 'OConnell', 'DOCONNEL', '650.507.9833', '21-Jun-07', 'SH_CLERK', '2600']\n",
      "['199', 'Douglas', 'Grant', 'DGRANT', '650.507.9844', '13-Jan-08', 'SH_CLERK', '2600']\n",
      "['200', 'Jennifer', 'Whalen', 'JWHALEN', '515.123.4444', '17-Sep-03', 'AD_ASST', '4400']\n",
      "['201', 'Michael', 'Hartstein', 'MHARTSTE', '515.123.5555', '17-Feb-04', 'MK_MAN', '13000']\n",
      "['202', 'Pat', 'Fay', 'PFAY', '603.123.6666', '17-Aug-05', 'MK_REP', '6000']\n",
      "['203', 'Susan', 'Mavris', 'SMAVRIS', '515.123.7777', '07-Jun-02', 'HR_REP', '6500']\n",
      "['204', 'Hermann', 'Baer', 'HBAER', '515.123.8888', '07-Jun-02', 'PR_REP', '10000']\n",
      "['205', 'Shelley', 'Higgins', 'SHIGGINS', '515.123.8080', '07-Jun-02', 'AC_MGR', '12008']\n",
      "['206', 'William', 'Gietz', 'WGIETZ', '515.123.8181', '07-Jun-02', 'AC_ACCOUNT', '8300']\n",
      "['100', 'Steven', 'King', 'SKING', '515.123.4567', '17-Jun-03', 'AD_PRES', '24000']\n",
      "['101', 'Neena', 'Kochhar', 'NKOCHHAR', '515.123.4568', '21-Sep-05', 'AD_VP', '17000']\n",
      "['102', 'Lex', 'De Haan', 'LDEHAAN', '515.123.4569', '13-Jan-01', 'AD_VP', '17000']\n",
      "['103', 'Alexander', 'Hunold', 'AHUNOLD', '590.423.4567', '03-Jan-06', 'IT_PROG', '9000']\n",
      "['104', 'Bruce', 'Ernst', 'BERNST', '590.423.4568', '21-May-07', 'IT_PROG', '6000']\n",
      "['105', 'David', 'Austin', 'DAUSTIN', '590.423.4569', '25-Jun-05', 'IT_PROG', '4800']\n",
      "['106', 'Valli', 'Pataballa', 'VPATABAL', '590.423.4560', '05-Feb-06', 'IT_PROG', '4800']\n",
      "['107', 'Diana', 'Lorentz', 'DLORENTZ', '590.423.5567', '07-Feb-07', 'IT_PROG', '4200']\n",
      "['108', 'Nancy', 'Greenberg', 'NGREENBE', '515.124.4569', '17-Aug-02', 'FI_MGR', '12008']\n",
      "['109', 'Daniel', 'Faviet', 'DFAVIET', '515.124.4169', '16-Aug-02', 'FI_ACCOUNT', '9000']\n",
      "['110', 'John', 'Chen', 'JCHEN', '515.124.4269', '28-Sep-05', 'FI_ACCOUNT', '8200']\n",
      "['111', 'Ismael', 'Sciarra', 'ISCIARRA', '515.124.4369', '30-Sep-05', 'FI_ACCOUNT', '7700']\n",
      "['112', 'Jose Manuel', 'Urman', 'JMURMAN', '515.124.4469', '07-Mar-06', 'FI_ACCOUNT', '7800']\n",
      "['113', 'Luis', 'Popp', 'LPOPP', '515.124.4567', '07-Dec-07', 'FI_ACCOUNT', '6900']\n",
      "['114', 'Den', 'Raphaely', 'DRAPHEAL', '515.127.4561', '07-Dec-02', 'PU_MAN', '11000']\n",
      "['115', 'Alexander', 'Khoo', 'AKHOO', '515.127.4562', '18-May-03', 'PU_CLERK', '3100']\n",
      "['116', 'Shelli', 'Baida', 'SBAIDA', '515.127.4563', '24-Dec-05', 'PU_CLERK', '2900']\n",
      "['117', 'Sigal', 'Tobias', 'STOBIAS', '515.127.4564', '24-Jul-05', 'PU_CLERK', '2800']\n",
      "['118', 'Guy', 'Himuro', 'GHIMURO', '515.127.4565', '15-Nov-06', 'PU_CLERK', '2600']\n",
      "['119', 'Karen', 'Colmenares', 'KCOLMENA', '515.127.4566', '10-Aug-07', 'PU_CLERK', '2500']\n",
      "['120', 'Matthew', 'Weiss', 'MWEISS', '650.123.1234', '18-Jul-04', 'ST_MAN', '8000']\n",
      "['121', 'Adam', 'Fripp', 'AFRIPP', '650.123.2234', '10-Apr-05', 'ST_MAN', '8200']\n",
      "['122', 'Payam', 'Kaufling', 'PKAUFLIN', '650.123.3234', '01-May-03', 'ST_MAN', '7900']\n",
      "['123', 'Shanta', 'Vollman', 'SVOLLMAN', '650.123.4234', '10-Oct-05', 'ST_MAN', '6500']\n",
      "['124', 'Kevin', 'Mourgos', 'KMOURGOS', '650.123.5234', '16-Nov-07', 'ST_MAN', '5800']\n",
      "['125', 'Julia', 'Nayer', 'JNAYER', '650.124.1214', '16-Jul-05', 'ST_CLERK', '3200']\n",
      "['126', 'Irene', 'Mikkilineni', 'IMIKKILI', '650.124.1224', '28-Sep-06', 'ST_CLERK', '2700']\n",
      "['127', 'James', 'Landry', 'JLANDRY', '650.124.1334', '14-Jan-07', 'ST_CLERK', '2400']\n",
      "['128', 'Steven', 'Markle', 'SMARKLE', '650.124.1434', '08-Mar-08', 'ST_CLERK', '2200']\n",
      "['129', 'Laura', 'Bissot', 'LBISSOT', '650.124.5234', '20-Aug-05', 'ST_CLERK', '3300']\n",
      "['130', 'Mozhe', 'Atkinson', 'MATKINSO', '650.124.6234', '30-Oct-05', 'ST_CLERK', '2800']\n",
      "['131', 'James', 'Marlow', 'JAMRLOW', '650.124.7234', '16-Feb-05', 'ST_CLERK', '2500']\n",
      "['132', 'TJ', 'Olson', 'TJOLSON', '650.124.8234', '10-Apr-07', 'ST_CLERK', '2100']\n",
      "['133', 'Jason', 'Mallin', 'JMALLIN', '650.127.1934', '14-Jun-04', 'ST_CLERK', '3300']\n",
      "['134', 'Michael', 'Rogers', 'MROGERS', '650.127.1834', '26-Aug-06', 'ST_CLERK', '2900']\n",
      "['135', 'Ki', 'Gee', 'KGEE', '650.127.1734', '12-Dec-07', 'ST_CLERK', '2400']\n",
      "['136', 'Hazel', 'Philtanker', 'HPHILTAN', '650.127.1634', '06-Feb-08', 'ST_CLERK', '2200']\n",
      "['137', 'Renske', 'Ladwig', 'RLADWIG', '650.121.1234', '14-Jul-03', 'ST_CLERK', '3600']\n",
      "['138', 'Stephen', 'Stiles', 'SSTILES', '650.121.2034', '26-Oct-05', 'ST_CLERK', '3200']\n",
      "['139', 'John', 'Seo', 'JSEO', '650.121.2019', '12-Feb-06', 'ST_CLERK', '2700']\n",
      "['140', 'Joshua', 'Patel', 'JPATEL', '650.121.1834', '06-Apr-06', 'ST_CLERK', '2500']\n",
      "Data inserted successfully!\n"
     ]
    }
   ],
   "source": [
    "with open(filename, 'r') as csvfile: \n",
    "    csvreader =csv.reader(csvfile) \n",
    "    a = next(csvreader) \n",
    "    for row in csvreader: \n",
    "        print(row) \n",
    "        empid = int(row[0]) \n",
    "        firstname = row[1] \n",
    "        lastname = row[2] \n",
    "        email = row[3] \n",
    "        phone = row[4] \n",
    "        hire_date = datetime.datetime.strptime(row[5], '%d-%b-%y').date() \n",
    "        job_id = row[6] \n",
    "        salary = int(row[7]) \n",
    "        #salary = int(row[7][:-3]) \n",
    "        sql = \"INSERT INTO salary(empid,firstname,lastname,email,phone,hire_date,job_id,salary) VALUES(%s,%s,%s,%s,%s,%s,%s,%s)\" \n",
    "        val=(empid,firstname,lastname,email,phone,hire_date,job_id,salary) \n",
    "        cursor.execute(sql,val)\n",
    "mydb.commit()\n",
    "print(\"Data inserted successfully!\")"
   ]
  },
  {
   "cell_type": "code",
   "execution_count": 23,
   "id": "56bc1709",
   "metadata": {},
   "outputs": [],
   "source": [
    "import logging \n",
    "# Set up basic logging \n",
    "logging.basicConfig( \n",
    "    filename='etl_log.txt', \n",
    "    level=logging.INFO, \n",
    "    format='%(asctime)s - %(levelname)s - %(message)s' \n",
    ") "
   ]
  },
  {
   "cell_type": "code",
   "execution_count": 25,
   "id": "418130a8",
   "metadata": {},
   "outputs": [
    {
     "name": "stdout",
     "output_type": "stream",
     "text": [
      "Raw data loaded:\n",
      "   EMPLOYEE_ID FIRST_NAME  LAST_NAME     EMAIL  PHONE_NUMBER  HIRE_DATE  \\\n",
      "0          198     Donald   OConnell  DOCONNEL  650.507.9833  21-Jun-07   \n",
      "1          199    Douglas      Grant    DGRANT  650.507.9844  13-Jan-08   \n",
      "2          200   Jennifer     Whalen   JWHALEN  515.123.4444  17-Sep-03   \n",
      "3          201    Michael  Hartstein  MHARTSTE  515.123.5555  17-Feb-04   \n",
      "4          202        Pat        Fay      PFAY  603.123.6666  17-Aug-05   \n",
      "\n",
      "     JOB_ID  SALARY  \n",
      "0  SH_CLERK    2600  \n",
      "1  SH_CLERK    2600  \n",
      "2   AD_ASST    4400  \n",
      "3    MK_MAN   13000  \n",
      "4    MK_REP    6000  \n",
      "['EMPLOYEE_ID', 'FIRST_NAME', 'LAST_NAME', 'EMAIL', 'PHONE_NUMBER', 'HIRE_DATE', 'JOB_ID', 'SALARY']\n"
     ]
    }
   ],
   "source": [
    "csv_file_path = 'employees1.csv' \n",
    "df = pd.read_csv(csv_file_path) \n",
    "print(\"Raw data loaded:\") \n",
    "print(df.head()) \n",
    "print(df.columns.tolist()) \n",
    "logging.info(\"CSV loaded successfully.\")"
   ]
  },
  {
   "cell_type": "code",
   "execution_count": 26,
   "id": "e99bd58c",
   "metadata": {},
   "outputs": [],
   "source": [
    "# Handle missing values \n",
    "df.fillna({ \n",
    "    'EMAIL': 'not_provided@example.com', \n",
    "    'PHONE_NUMBER': '0000000000',\n",
    "    'HIRE_DATE': '01-Jan-00', \n",
    "    'SALARY': 0 \n",
    "}, inplace=True) \n"
   ]
  },
  {
   "cell_type": "code",
   "execution_count": 27,
   "id": "1ca63285",
   "metadata": {},
   "outputs": [],
   "source": [
    "# Standardize column names (optional) \n",
    "df.columns = [col.strip().lower().replace(' ', '_') for col in df.columns] \n"
   ]
  },
  {
   "cell_type": "code",
   "execution_count": 29,
   "id": "e7f1a0d3",
   "metadata": {},
   "outputs": [
    {
     "name": "stdout",
     "output_type": "stream",
     "text": [
      "['employee_id', 'first_name', 'last_name', 'email', 'phone_number', 'hire_date', 'job_id', 'salary']\n"
     ]
    }
   ],
   "source": [
    "print(df.columns.tolist()) \n",
    "# Convert hire_date from 'dd-MMM-yy' to 'YYYY-MM-DD' \n",
    "df['hire_date'] = pd.to_datetime(df['hire_date'], format='%d-%b-%y', errors='coerce') "
   ]
  },
  {
   "cell_type": "code",
   "execution_count": 30,
   "id": "701031a6",
   "metadata": {},
   "outputs": [],
   "source": [
    "# Replace invalid dates with a default \n",
    "df['hire_date'] = df['hire_date'].fillna(pd.to_datetime('2000-01-01')) \n",
    "# Replace non-numeric salaries with 0 \n",
    "df['salary'] = pd.to_numeric(df['salary'], errors='coerce').fillna(0).astype(int) \n",
    "logging.info(\"Data cleaning completed.\") "
   ]
  },
  {
   "cell_type": "code",
   "execution_count": 32,
   "id": "dc2eeea9",
   "metadata": {},
   "outputs": [],
   "source": [
    "mydb = mysql.connector.connect( \n",
    "    host=\"localhost\", \n",
    "    user=\"Senthil\", \n",
    "    password=\"43560270\", \n",
    "    database=\"employee\"  # <-- change this \n",
    ") "
   ]
  },
  {
   "cell_type": "code",
   "execution_count": 33,
   "id": "1f0941e1",
   "metadata": {},
   "outputs": [],
   "source": [
    "cursor = mydb.cursor() "
   ]
  },
  {
   "cell_type": "code",
   "execution_count": 34,
   "id": "71dc5a16",
   "metadata": {},
   "outputs": [],
   "source": [
    "cursor.execute(\"\"\" \n",
    "    CREATE TABLE IF NOT EXISTS salary_2 ( \n",
    "        empid INT, \n",
    "        firstname VARCHAR(50), \n",
    "        lastname VARCHAR(50), \n",
    "        email VARCHAR(100), \n",
    "        phone VARCHAR(20), \n",
    "        hire_date DATE, \n",
    "        job_id VARCHAR(20), \n",
    "        salary INT \n",
    "    ) \n",
    "\"\"\") "
   ]
  },
  {
   "cell_type": "code",
   "execution_count": 36,
   "id": "f7f352c7",
   "metadata": {},
   "outputs": [
    {
     "name": "stdout",
     "output_type": "stream",
     "text": [
      "ETL process completed successfully.\n"
     ]
    }
   ],
   "source": [
    "# Insert each row into the table \n",
    "for index, row in df.iterrows():\n",
    "     sql = \"\"\" \n",
    "        INSERT INTO salary_2 (empid, firstname, lastname, email, phone, \n",
    "hire_date, job_id, salary) \n",
    "        VALUES (%s, %s, %s, %s, %s, %s, %s, %s) \n",
    "        ON DUPLICATE KEY UPDATE \n",
    "            firstname=VALUES(firstname), \n",
    "            lastname=VALUES(lastname), \n",
    "            email=VALUES(email), \n",
    "            phone=VALUES(phone), \n",
    "            hire_date=VALUES(hire_date), \n",
    "            job_id=VALUES(job_id), \n",
    "            salary=VALUES(salary) \n",
    "    \"\"\"\n",
    "     values = ( \n",
    "        int(row['employee_id']), \n",
    "        row['first_name'], \n",
    "        row['last_name'], \n",
    "        row['email'], \n",
    "        row['phone_number'], \n",
    "        row['hire_date'].date(), \n",
    "        row['job_id'], \n",
    "        int(row['salary']) \n",
    "    ) \n",
    "cursor.execute(sql, values) \n",
    "mydb.commit() \n",
    "cursor.close() \n",
    "mydb.close() \n",
    "logging.error(\"Something went wrong\", exc_info=True) \n",
    "print(\"ETL process completed successfully.\") "
   ]
  },
  {
   "cell_type": "code",
   "execution_count": 40,
   "id": "bc11ce28",
   "metadata": {},
   "outputs": [
    {
     "name": "stdout",
     "output_type": "stream",
     "text": [
      "c:\\Users\\senth\\Placement Training\n"
     ]
    }
   ],
   "source": [
    "import os \n",
    "print(os.getcwd()) "
   ]
  },
  {
   "cell_type": "code",
   "execution_count": 51,
   "id": "4ef85cca",
   "metadata": {},
   "outputs": [
    {
     "name": "stderr",
     "output_type": "stream",
     "text": [
      "[NbConvertApp] Converting notebook Code 3.ipynb to script\n",
      "C:\\Users\\senth\\AppData\\Local\\Programs\\Python\\Python310\\share\\jupyter\\nbconvert\\templates\\python\\index.py.j2:61: UserWarning: IPython is needed to transform IPython syntax to pure Python. Install ipython if you need this functionality.\n",
      "[NbConvertApp] Writing 4211 bytes to Code 3.py\n"
     ]
    }
   ],
   "source": [
    "!jupyter nbconvert --to script \"Code 3.ipynb\""
   ]
  },
  {
   "cell_type": "code",
   "execution_count": null,
   "id": "28409b39",
   "metadata": {},
   "outputs": [],
   "source": []
  }
 ],
 "metadata": {
  "kernelspec": {
   "display_name": "Python 3",
   "language": "python",
   "name": "python3"
  },
  "language_info": {
   "codemirror_mode": {
    "name": "ipython",
    "version": 3
   },
   "file_extension": ".py",
   "mimetype": "text/x-python",
   "name": "python",
   "nbconvert_exporter": "python",
   "pygments_lexer": "ipython3",
   "version": "3.13.5"
  }
 },
 "nbformat": 4,
 "nbformat_minor": 5
}
