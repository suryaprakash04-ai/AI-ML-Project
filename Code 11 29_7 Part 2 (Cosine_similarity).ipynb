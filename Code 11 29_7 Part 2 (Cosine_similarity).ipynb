{
 "cells": [
  {
   "cell_type": "code",
   "execution_count": 1,
   "id": "d0b5efd1",
   "metadata": {},
   "outputs": [],
   "source": [
    "from sklearn.feature_extraction.text import TfidfVectorizer\n",
    "from sklearn.metrics.pairwise import cosine_similarity"
   ]
  },
  {
   "cell_type": "code",
   "execution_count": 2,
   "id": "1f334e55",
   "metadata": {},
   "outputs": [],
   "source": [
    "decs = [\"Machine learning and AI\", \"Deep learning in AI\", \"Romantic Poetry and Love\"]"
   ]
  },
  {
   "cell_type": "code",
   "execution_count": 3,
   "id": "7efb64ca",
   "metadata": {},
   "outputs": [],
   "source": [
    "Vectorizer = TfidfVectorizer()\n",
    "tfidf_matrix = Vectorizer.fit_transform(decs)"
   ]
  },
  {
   "cell_type": "code",
   "execution_count": 4,
   "id": "15a7b363",
   "metadata": {},
   "outputs": [],
   "source": [
    "similarity = cosine_similarity(tfidf_matrix)"
   ]
  },
  {
   "cell_type": "code",
   "execution_count": 5,
   "id": "6633b3ff",
   "metadata": {},
   "outputs": [
    {
     "name": "stdout",
     "output_type": "stream",
     "text": [
      "          Doc1      Doc2     Doc3\n",
      "Doc1  1.000000  0.393677  0.18488\n",
      "Doc2  0.393677  1.000000  0.00000\n",
      "Doc3  0.184880  0.000000  1.00000\n"
     ]
    }
   ],
   "source": [
    "import pandas as pd\n",
    "df = pd.DataFrame(similarity, columns=['Doc1', 'Doc2', 'Doc3'], index=['Doc1', 'Doc2', 'Doc3'])\n",
    "print(df)"
   ]
  },
  {
   "cell_type": "code",
   "execution_count": null,
   "id": "b648a65e",
   "metadata": {},
   "outputs": [],
   "source": []
  }
 ],
 "metadata": {
  "kernelspec": {
   "display_name": "Python 3",
   "language": "python",
   "name": "python3"
  },
  "language_info": {
   "codemirror_mode": {
    "name": "ipython",
    "version": 3
   },
   "file_extension": ".py",
   "mimetype": "text/x-python",
   "name": "python",
   "nbconvert_exporter": "python",
   "pygments_lexer": "ipython3",
   "version": "3.10.11"
  }
 },
 "nbformat": 4,
 "nbformat_minor": 5
}
