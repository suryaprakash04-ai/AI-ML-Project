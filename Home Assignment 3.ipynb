{
 "cells": [
  {
   "cell_type": "code",
   "execution_count": 55,
   "id": "3bff3eee",
   "metadata": {},
   "outputs": [],
   "source": [
    "#Step 1: Import Libraries\n",
    "import pandas as pd\n",
    "import numpy as np\n",
    "import mysql.connector\n",
    "import os\n",
    "import glob\n",
    "import logging\n",
    "from datetime import datetime\n"
   ]
  },
  {
   "cell_type": "code",
   "execution_count": 56,
   "id": "6e1b90c0",
   "metadata": {},
   "outputs": [],
   "source": [
    "#Step 2: Configure Logging\n",
    "logging.basicConfig(filename='etl_log.log', level=logging.INFO,\n",
    "                    format='%(asctime)s:%(levelname)s:%(message)s')\n"
   ]
  },
  {
   "cell_type": "code",
   "execution_count": 57,
   "id": "555907c1",
   "metadata": {},
   "outputs": [
    {
     "name": "stdout",
     "output_type": "stream",
     "text": [
      "Combined DataFrame shape: (81, 8)\n"
     ]
    }
   ],
   "source": [
    "#Step 3: Extract Data from Multiple CSV Files\n",
    "data_folder = 'data/'  \n",
    "all_files = glob.glob(os.path.join(data_folder, \"*.csv\"))\n",
    "\n",
    "if not all_files:\n",
    "    logging.warning(\"No CSV files found in the data/ folder.\")\n",
    "    print(\"⚠️ No CSV files found. Please check the 'data/' folder path and file extensions.\")\n",
    "else:\n",
    "    df_list = []\n",
    "    for file in all_files:\n",
    "        try:\n",
    "            temp_df = pd.read_csv(file)\n",
    "            df_list.append(temp_df)\n",
    "            logging.info(f\"Loaded file: {file}\")\n",
    "        except Exception as e:\n",
    "            logging.error(f\"Error loading {file}: {e}\")\n",
    "    \n",
    "    if df_list:\n",
    "        sales_df = pd.concat(df_list, ignore_index=True)\n",
    "        print(\"Combined DataFrame shape:\", sales_df.shape)\n",
    "    else:\n",
    "        print(\"⚠️ All files failed to load. Check CSV formatting.\")\n"
   ]
  },
  {
   "cell_type": "code",
   "execution_count": 58,
   "id": "106be6a0",
   "metadata": {},
   "outputs": [],
   "source": [
    "#Step 4: Transform the Data\n",
    "# Handle missing values\n",
    "sales_df.fillna({\n",
    "    'Quantity_Sold': 0,\n",
    "    'Unit_Price': 0.0,\n",
    "    'Discount_Percent': 0.0,\n",
    "    'Payment_Mode': 'Unknown'\n",
    "}, inplace=True)\n"
   ]
  },
  {
   "cell_type": "code",
   "execution_count": 59,
   "id": "2128ca09",
   "metadata": {},
   "outputs": [
    {
     "name": "stdout",
     "output_type": "stream",
     "text": [
      "Transformed DataFrame preview:\n"
     ]
    },
    {
     "data": {
      "text/html": [
       "<div>\n",
       "<style scoped>\n",
       "    .dataframe tbody tr th:only-of-type {\n",
       "        vertical-align: middle;\n",
       "    }\n",
       "\n",
       "    .dataframe tbody tr th {\n",
       "        vertical-align: top;\n",
       "    }\n",
       "\n",
       "    .dataframe thead th {\n",
       "        text-align: right;\n",
       "    }\n",
       "</style>\n",
       "<table border=\"1\" class=\"dataframe\">\n",
       "  <thead>\n",
       "    <tr style=\"text-align: right;\">\n",
       "      <th></th>\n",
       "      <th>store_id</th>\n",
       "      <th>date</th>\n",
       "      <th>product_id</th>\n",
       "      <th>product_name</th>\n",
       "      <th>quantity_sold</th>\n",
       "      <th>unit_price</th>\n",
       "      <th>discount_percent</th>\n",
       "      <th>payment_mode</th>\n",
       "      <th>total_sale_value</th>\n",
       "      <th>sale_category</th>\n",
       "    </tr>\n",
       "  </thead>\n",
       "  <tbody>\n",
       "    <tr>\n",
       "      <th>0</th>\n",
       "      <td>S001</td>\n",
       "      <td>2023-07-01</td>\n",
       "      <td>P001</td>\n",
       "      <td>Soap</td>\n",
       "      <td>10</td>\n",
       "      <td>25.5</td>\n",
       "      <td>5</td>\n",
       "      <td>Cash</td>\n",
       "      <td>242.25</td>\n",
       "      <td>Low</td>\n",
       "    </tr>\n",
       "    <tr>\n",
       "      <th>1</th>\n",
       "      <td>S002</td>\n",
       "      <td>2023-07-01</td>\n",
       "      <td>P002</td>\n",
       "      <td>Shampoo</td>\n",
       "      <td>5</td>\n",
       "      <td>120.0</td>\n",
       "      <td>10</td>\n",
       "      <td>Card</td>\n",
       "      <td>540.00</td>\n",
       "      <td>Medium</td>\n",
       "    </tr>\n",
       "    <tr>\n",
       "      <th>2</th>\n",
       "      <td>S003</td>\n",
       "      <td>2023-07-02</td>\n",
       "      <td>P001</td>\n",
       "      <td>Soap</td>\n",
       "      <td>8</td>\n",
       "      <td>25.5</td>\n",
       "      <td>0</td>\n",
       "      <td>Cash</td>\n",
       "      <td>204.00</td>\n",
       "      <td>Low</td>\n",
       "    </tr>\n",
       "    <tr>\n",
       "      <th>3</th>\n",
       "      <td>S004</td>\n",
       "      <td>2023-07-02</td>\n",
       "      <td>P003</td>\n",
       "      <td>Toothpaste</td>\n",
       "      <td>12</td>\n",
       "      <td>40.0</td>\n",
       "      <td>2</td>\n",
       "      <td>Card</td>\n",
       "      <td>470.40</td>\n",
       "      <td>Low</td>\n",
       "    </tr>\n",
       "    <tr>\n",
       "      <th>4</th>\n",
       "      <td>S005</td>\n",
       "      <td>2023-07-03</td>\n",
       "      <td>P002</td>\n",
       "      <td>Shampoo</td>\n",
       "      <td>6</td>\n",
       "      <td>120.0</td>\n",
       "      <td>5</td>\n",
       "      <td>Cash</td>\n",
       "      <td>684.00</td>\n",
       "      <td>Medium</td>\n",
       "    </tr>\n",
       "  </tbody>\n",
       "</table>\n",
       "</div>"
      ],
      "text/plain": [
       "  store_id       date product_id product_name  quantity_sold  unit_price  \\\n",
       "0     S001 2023-07-01       P001         Soap             10        25.5   \n",
       "1     S002 2023-07-01       P002      Shampoo              5       120.0   \n",
       "2     S003 2023-07-02       P001         Soap              8        25.5   \n",
       "3     S004 2023-07-02       P003   Toothpaste             12        40.0   \n",
       "4     S005 2023-07-03       P002      Shampoo              6       120.0   \n",
       "\n",
       "   discount_percent payment_mode  total_sale_value sale_category  \n",
       "0                 5         Cash            242.25           Low  \n",
       "1                10         Card            540.00        Medium  \n",
       "2                 0         Cash            204.00           Low  \n",
       "3                 2         Card            470.40           Low  \n",
       "4                 5         Cash            684.00        Medium  "
      ]
     },
     "execution_count": 59,
     "metadata": {},
     "output_type": "execute_result"
    }
   ],
   "source": [
    "#Normalize column names first\n",
    "sales_df.columns = [col.lower().strip().replace(\" \", \"_\") for col in sales_df.columns]\n",
    "\n",
    "# Create total_sale_value column using normalized names\n",
    "sales_df['total_sale_value'] = (\n",
    "    sales_df['quantity_sold'] * \n",
    "    sales_df['unit_price'] * \n",
    "    (1 - sales_df['discount_percent'] / 100)\n",
    ")\n",
    "\n",
    "# Convert date column to datetime\n",
    "sales_df['date'] = pd.to_datetime(sales_df['date'], errors='coerce')\n",
    "\n",
    "# Remove duplicates\n",
    "sales_df.drop_duplicates(subset=['store_id', 'date', 'product_id'], inplace=True)\n",
    "\n",
    "# Categorize sales\n",
    "conditions = [\n",
    "    (sales_df['total_sale_value'] >= 1000),\n",
    "    (sales_df['total_sale_value'] >= 500) & (sales_df['total_sale_value'] < 1000),\n",
    "    (sales_df['total_sale_value'] < 500)\n",
    "]\n",
    "choices = ['High', 'Medium', 'Low']\n",
    "sales_df['sale_category'] = np.select(conditions, choices, default='Unknown')\n",
    "\n",
    "print(\"Transformed DataFrame preview:\")\n",
    "sales_df.head()\n"
   ]
  },
  {
   "cell_type": "code",
   "execution_count": 60,
   "id": "e53ecf25",
   "metadata": {},
   "outputs": [],
   "source": [
    "#Step 5: Load to MySQL\n",
    "try:\n",
    "    # Connect without specifying the database\n",
    "    mydb = mysql.connector.connect(\n",
    "        host=\"localhost\",\n",
    "        user=\"Srivarshan\",\n",
    "        password=\"1234567890\"\n",
    "    )\n",
    "    cursor = mydb.cursor()\n",
    "    # Create database if not exists, then use it\n",
    "    cursor.execute(\"CREATE DATABASE IF NOT EXISTS retail\")\n",
    "    cursor.execute(\"USE retail\")\n",
    "    logging.info(\"Connected to MySQL and ensured database exists.\")\n",
    "except Exception as e:\n",
    "    logging.error(f\"MySQL connection failed: {e}\")\n",
    "    raise\n"
   ]
  },
  {
   "cell_type": "code",
   "execution_count": 61,
   "id": "e720e8e6",
   "metadata": {},
   "outputs": [],
   "source": [
    "\n",
    "# Create database and table if not exists\n",
    "cursor.execute(\"CREATE DATABASE IF NOT EXISTS retail\")\n",
    "cursor.execute(\"USE retail\")\n",
    "\n",
    "create_table_query = \"\"\"\n",
    "CREATE TABLE IF NOT EXISTS retail_sales (\n",
    "    store_id VARCHAR(20),\n",
    "    date DATE,\n",
    "    product_id VARCHAR(20),\n",
    "    product_name VARCHAR(100),\n",
    "    quantity_sold INT,\n",
    "    unit_price FLOAT,\n",
    "    discount_percent FLOAT,\n",
    "    payment_mode VARCHAR(20),\n",
    "    total_sale_value FLOAT,\n",
    "    sale_category VARCHAR(10),\n",
    "    PRIMARY KEY (store_id, date, product_id)\n",
    ")\n",
    "\"\"\"\n",
    "cursor.execute(create_table_query)\n"
   ]
  },
  {
   "cell_type": "code",
   "execution_count": 62,
   "id": "59b1bfce",
   "metadata": {},
   "outputs": [
    {
     "name": "stdout",
     "output_type": "stream",
     "text": [
      "✅ Data loaded into MySQL.\n"
     ]
    }
   ],
   "source": [
    "# Insert data with idempotency\n",
    "insert_query = \"\"\"\n",
    "REPLACE INTO retail_sales (\n",
    "    store_id, date, product_id, product_name, quantity_sold,\n",
    "    unit_price, discount_percent, payment_mode, total_sale_value, sale_category\n",
    ") VALUES (%s, %s, %s, %s, %s, %s, %s, %s, %s, %s)\n",
    "\"\"\"\n",
    "\n",
    "for _, row in sales_df.iterrows():\n",
    "    cursor.execute(insert_query, tuple(row))\n",
    "mydb.commit()\n",
    "logging.info(\"Data inserted into MySQL successfully.\")\n",
    "print(\"✅ Data loaded into MySQL.\")\n"
   ]
  },
  {
   "cell_type": "code",
   "execution_count": 63,
   "id": "a2df5653",
   "metadata": {},
   "outputs": [
    {
     "name": "stdout",
     "output_type": "stream",
     "text": [
      "📁 Reports exported successfully.\n"
     ]
    }
   ],
   "source": [
    "\n",
    "#Step 6: Analysis & Reporting\n",
    "# Total sales per store\n",
    "store_sales = sales_df.groupby('store_id')['total_sale_value'].sum().reset_index()\n",
    "store_sales.to_csv('store_sales_summary.csv', index=False)\n",
    "\n",
    "# Top 5 products by total sales\n",
    "top_products = sales_df.groupby('product_name')['total_sale_value'].sum().nlargest(5).reset_index()\n",
    "top_products.to_csv('top_5_products.csv', index=False)\n",
    "\n",
    "# Daily sales trend per store\n",
    "daily_trend = sales_df.groupby(['store_id', 'date'])['total_sale_value'].sum().reset_index()\n",
    "daily_trend.to_csv('daily_sales_trend.csv', index=False)\n",
    "\n",
    "print(\"📁 Reports exported successfully.\")"
   ]
  },
  {
   "cell_type": "code",
   "execution_count": null,
   "id": "bc5389e6",
   "metadata": {},
   "outputs": [],
   "source": []
  }
 ],
 "metadata": {
  "kernelspec": {
   "display_name": "Python 3",
   "language": "python",
   "name": "python3"
  },
  "language_info": {
   "codemirror_mode": {
    "name": "ipython",
    "version": 3
   },
   "file_extension": ".py",
   "mimetype": "text/x-python",
   "name": "python",
   "nbconvert_exporter": "python",
   "pygments_lexer": "ipython3",
   "version": "3.13.5"
  }
 },
 "nbformat": 4,
 "nbformat_minor": 5
}
